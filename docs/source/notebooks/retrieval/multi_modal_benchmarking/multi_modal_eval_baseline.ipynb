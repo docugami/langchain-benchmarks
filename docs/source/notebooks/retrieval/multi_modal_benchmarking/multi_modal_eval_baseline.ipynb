{
 "cells": [
  {
   "cell_type": "markdown",
   "id": "9fa3470d-9448-4792-9f65-6978fc58cf84",
   "metadata": {},
   "source": [
    "# Multi-modal eval: baseline retriever\n",
    "\n",
    "We will test retrival of image information from the `xxx` dataset using various methods.\n",
    "\n",
    "## Pre-requisites"
   ]
  },
  {
   "cell_type": "code",
   "execution_count": null,
   "id": "47220461-d4e9-4f1d-9c57-672ca947ca0d",
   "metadata": {},
   "outputs": [],
   "source": [
    "%pip install -U langchain langsmith langchain_benchmarks\n",
    "%pip install --quiet chromadb openai"
   ]
  },
  {
   "cell_type": "markdown",
   "id": "10da8e11-6288-4131-bd60-d5aa86928acc",
   "metadata": {},
   "source": [
    "## Dataset"
   ]
  },
  {
   "cell_type": "code",
   "execution_count": 2,
   "id": "b96370f4-1d4f-4867-990d-7d8153142e98",
   "metadata": {},
   "outputs": [],
   "source": [
    "import os\n",
    "\n",
    "from langchain_benchmarks import registry\n",
    "from langchain_benchmarks.rag.tasks.semi_structured_reports import get_file_names\n",
    "\n",
    "# Task\n",
    "task = registry[\"Semi-structured Reports\"]\n",
    "\n",
    "# Files used\n",
    "paths = list(get_file_names())\n",
    "files = [str(p) for p in paths]\n",
    "\n",
    "### TODO: Replace when dataset is updated\n",
    "dir = \"/Users/rlm/Desktop/Eval_Sets/multi_modal_presentations/DDOG/\"\n",
    "files = [f for f in os.listdir(dir) if f.endswith(\".pdf\")]"
   ]
  },
  {
   "cell_type": "markdown",
   "id": "848a4cdb-6c08-4c01-81ce-16ab83a7fdff",
   "metadata": {},
   "source": [
    "## Load"
   ]
  },
  {
   "cell_type": "code",
   "execution_count": 3,
   "id": "6ce85810-98a7-406e-b44e-ce860ac35986",
   "metadata": {},
   "outputs": [
    {
     "name": "stdout",
     "output_type": "stream",
     "text": [
      "There are 98 text elements\n"
     ]
    }
   ],
   "source": [
    "from langchain.document_loaders import PyPDFLoader\n",
    "from langchain.text_splitter import RecursiveCharacterTextSplitter\n",
    "\n",
    "\n",
    "def load_and_split(file):\n",
    "    \"\"\"\n",
    "    Load and split PDF files\n",
    "    \"\"\"\n",
    "\n",
    "    loader = PyPDFLoader(file)\n",
    "    pdf_pages = loader.load()\n",
    "\n",
    "    text_splitter = RecursiveCharacterTextSplitter.from_tiktoken_encoder(\n",
    "        chunk_size=100, chunk_overlap=50\n",
    "    )\n",
    "\n",
    "    # Get chunks\n",
    "    docs = text_splitter.split_documents(pdf_pages)\n",
    "    texts = [d.page_content for d in docs]\n",
    "    print(f\"There are {len(texts)} text elements\")\n",
    "    return texts\n",
    "\n",
    "\n",
    "texts = []\n",
    "for fi in files:\n",
    "    texts.extend(load_and_split(dir + fi))"
   ]
  },
  {
   "cell_type": "markdown",
   "id": "eb01925d-b7d1-47a1-bd90-805178d3c4a9",
   "metadata": {},
   "source": [
    "## Index"
   ]
  },
  {
   "cell_type": "code",
   "execution_count": 4,
   "id": "ceb31f71-45fb-4b12-bc1c-31981de334bb",
   "metadata": {},
   "outputs": [],
   "source": [
    "from langchain.embeddings import OpenAIEmbeddings\n",
    "from langchain.vectorstores import Chroma\n",
    "\n",
    "vectorstore_baseline = Chroma.from_texts(\n",
    "    texts=texts, collection_name=\"baseline-multi-modal\", embedding=OpenAIEmbeddings()\n",
    ")\n",
    "\n",
    "retriever_baseline = vectorstore_baseline.as_retriever()"
   ]
  },
  {
   "cell_type": "markdown",
   "id": "e6dcbb01-f480-456d-b972-c732eb26c393",
   "metadata": {},
   "source": [
    "## RAG"
   ]
  },
  {
   "cell_type": "code",
   "execution_count": 5,
   "id": "ea233664-e527-42f1-a820-0c2271e16c20",
   "metadata": {},
   "outputs": [],
   "source": [
    "from langchain.chat_models import ChatOpenAI\n",
    "from langchain.prompts import ChatPromptTemplate\n",
    "from langchain.schema.output_parser import StrOutputParser\n",
    "from langchain.schema.runnable import RunnablePassthrough\n",
    "\n",
    "\n",
    "def rag_chain(retriever):\n",
    "    \"\"\"\n",
    "    RAG chain\n",
    "    \"\"\"\n",
    "\n",
    "    # Prompt template\n",
    "    template = \"\"\"Answer the question based only on the following context, which can include text and tables:\n",
    "    {context}\n",
    "    Question: {question}\n",
    "    \"\"\"\n",
    "    prompt = ChatPromptTemplate.from_template(template)\n",
    "\n",
    "    # LLM\n",
    "    model = ChatOpenAI(temperature=0, model=\"gpt-4\")\n",
    "\n",
    "    # RAG pipeline\n",
    "    chain = (\n",
    "        {\n",
    "            \"context\": retriever | (lambda x: \"\\n\\n\".join([i.page_content for i in x])),\n",
    "            \"question\": RunnablePassthrough(),\n",
    "        }\n",
    "        | prompt\n",
    "        | model\n",
    "        | StrOutputParser()\n",
    "    )\n",
    "    return chain\n",
    "\n",
    "\n",
    "# Create RAG chain\n",
    "chain = rag_chain(retriever_baseline)"
   ]
  },
  {
   "cell_type": "code",
   "execution_count": 7,
   "id": "479ce09d-642e-4b3b-9e4e-e9c2b7f0e9ca",
   "metadata": {},
   "outputs": [
    {
     "name": "stdout",
     "output_type": "stream",
     "text": [
      "View the evaluation results for project 'baseline_c7f94c51-b492-4bc2-a21f-0fc0201e2161' at:\n",
      "https://smith.langchain.com/o/1fa8b1f4-fcb9-4072-9aa9-983e35ad61b8/projects/p/c37d7cc1-b044-4ed4-8862-96d95573a5a3?eval=true\n",
      "\n",
      "View all tests for Dataset Multi-Modal-Eval-v3 at:\n",
      "https://smith.langchain.com/o/1fa8b1f4-fcb9-4072-9aa9-983e35ad61b8/datasets/67995b2b-2946-4e5d-90a1-4efb880cf339\n",
      "[------------------------------------------------->] 10/10\n",
      " Eval quantiles:\n",
      "                                          inputs.question  \\\n",
      "count                                                  10   \n",
      "unique                                                 10   \n",
      "top     How many customers with ARR > $100k did Datado...   \n",
      "freq                                                    1   \n",
      "mean                                                  NaN   \n",
      "std                                                   NaN   \n",
      "min                                                   NaN   \n",
      "25%                                                   NaN   \n",
      "50%                                                   NaN   \n",
      "75%                                                   NaN   \n",
      "max                                                   NaN   \n",
      "\n",
      "        feedback.COT Contextual Accuracy error  execution_time  \n",
      "count                          10.000000     0       10.000000  \n",
      "unique                               NaN     0             NaN  \n",
      "top                                  NaN   NaN             NaN  \n",
      "freq                                 NaN   NaN             NaN  \n",
      "mean                            0.200000   NaN       21.270241  \n",
      "std                             0.421637   NaN       16.653837  \n",
      "min                             0.000000   NaN        3.373733  \n",
      "25%                             0.000000   NaN        5.128065  \n",
      "50%                             0.000000   NaN       19.844928  \n",
      "75%                             0.000000   NaN       32.626765  \n",
      "max                             1.000000   NaN       47.964538  \n"
     ]
    }
   ],
   "source": [
    "import uuid\n",
    "\n",
    "from langchain.smith import RunEvalConfig\n",
    "from langsmith.client import Client\n",
    "\n",
    "eval_config = RunEvalConfig(\n",
    "    evaluators=[\"cot_qa\"],\n",
    ")\n",
    "\n",
    "\n",
    "def run_eval(chain, eval_run_name):\n",
    "    \"\"\"\n",
    "    Run eval\n",
    "    \"\"\"\n",
    "    client = Client()\n",
    "    test_run = client.run_on_dataset(\n",
    "        ### TODO: Replace with public dataset\n",
    "        dataset_name=\"Multi-Modal-Eval-v3\",\n",
    "        llm_or_chain_factory=lambda: (lambda x: x[\"question\"]) | chain,\n",
    "        evaluation=eval_config,\n",
    "        verbose=True,\n",
    "        project_name=eval_run_name,\n",
    "    )\n",
    "\n",
    "\n",
    "# Experiments\n",
    "chain_map = {\n",
    "    \"baseline\": chain,\n",
    "}\n",
    "\n",
    "run_id = str(uuid.uuid4())\n",
    "for project_name, chain in chain_map.items():\n",
    "    run_eval(chain, project_name + \"_\" + run_id)"
   ]
  },
  {
   "cell_type": "code",
   "execution_count": null,
   "id": "7e7e1490-5a6b-4af6-b172-566c988c0d1e",
   "metadata": {},
   "outputs": [],
   "source": []
  }
 ],
 "metadata": {
  "kernelspec": {
   "display_name": "Python 3 (ipykernel)",
   "language": "python",
   "name": "python3"
  },
  "language_info": {
   "codemirror_mode": {
    "name": "ipython",
    "version": 3
   },
   "file_extension": ".py",
   "mimetype": "text/x-python",
   "name": "python",
   "nbconvert_exporter": "python",
   "pygments_lexer": "ipython3",
   "version": "3.9.16"
  }
 },
 "nbformat": 4,
 "nbformat_minor": 5
}
